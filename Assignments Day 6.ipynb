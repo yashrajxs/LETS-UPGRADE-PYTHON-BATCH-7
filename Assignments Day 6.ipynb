{
 "cells": [
  {
   "cell_type": "markdown",
   "metadata": {},
   "source": [
    "# Question 1"
   ]
  },
  {
   "cell_type": "code",
   "execution_count": 1,
   "metadata": {},
   "outputs": [],
   "source": [
    "class bankAc():\n",
    "    def __init__(self,ownerName,balance):\n",
    "        self.owerName = ownerName\n",
    "        self.balance = balance\n",
    "    \n",
    "    def deposit(self,d):\n",
    "        self.balance += d\n",
    "        print(\"you have added\"+ str(d) +\"to your account\")\n",
    "        print(\"your current bal is:\",self.balance)\n",
    "        \n",
    "    def withdral(self,w):\n",
    "        if w>self.balance:\n",
    "            return \"You have insuffficient balance\"\n",
    "        else:\n",
    "            self.balance-=w\n",
    "            print(\"you withdral amount is:\" + str(w) + \" your current bal is \"+str(self.balance))\n"
   ]
  },
  {
   "cell_type": "code",
   "execution_count": 17,
   "metadata": {},
   "outputs": [],
   "source": [
    "ac =bankAc(\"Yashraj Sinha\",5000)"
   ]
  },
  {
   "cell_type": "code",
   "execution_count": 18,
   "metadata": {},
   "outputs": [
    {
     "name": "stdout",
     "output_type": "stream",
     "text": [
      "you have added2000to your accont\n",
      "your current bal is  7000\n"
     ]
    }
   ],
   "source": [
    "ac.deposit(2000)"
   ]
  },
  {
   "cell_type": "code",
   "execution_count": 19,
   "metadata": {},
   "outputs": [
    {
     "name": "stdout",
     "output_type": "stream",
     "text": [
      "you withdral amount is 1000 your current bal is6000\n"
     ]
    }
   ],
   "source": [
    "ac.withdral(1000)"
   ]
  },
  {
   "cell_type": "markdown",
   "metadata": {},
   "source": [
    "# Question 2"
   ]
  },
  {
   "cell_type": "code",
   "execution_count": 20,
   "metadata": {},
   "outputs": [],
   "source": [
    "import math\n",
    "class cone():\n",
    "    def __init__(self,radius,height):\n",
    "        self.radius = radius\n",
    "        self.height = height\n",
    "        \n",
    "    def volume(self):\n",
    "        ans = 1/3 *3.14*(self.radius**2)*self.height\n",
    "        return  ans\n",
    "    def surfaceArea(self):\n",
    "        ans1 = 3.14*self.radius*(self.radius + math.sqrt(self.height**2+self.radius**2))\n",
    "        return ans1"
   ]
  },
  {
   "cell_type": "code",
   "execution_count": 25,
   "metadata": {},
   "outputs": [],
   "source": [
    "ase = cone(8,15)"
   ]
  },
  {
   "cell_type": "code",
   "execution_count": 26,
   "metadata": {},
   "outputs": [
    {
     "data": {
      "text/plain": [
       "1004.8"
      ]
     },
     "execution_count": 26,
     "metadata": {},
     "output_type": "execute_result"
    }
   ],
   "source": [
    "ase.volume()"
   ]
  },
  {
   "cell_type": "code",
   "execution_count": 27,
   "metadata": {},
   "outputs": [
    {
     "data": {
      "text/plain": [
       "628.0"
      ]
     },
     "execution_count": 27,
     "metadata": {},
     "output_type": "execute_result"
    }
   ],
   "source": [
    "ase.surfaceArea()"
   ]
  },
  {
   "cell_type": "code",
   "execution_count": null,
   "metadata": {},
   "outputs": [],
   "source": []
  }
 ],
 "metadata": {
  "kernelspec": {
   "display_name": "Python 3",
   "language": "python",
   "name": "python3"
  },
  "language_info": {
   "codemirror_mode": {
    "name": "ipython",
    "version": 3
   },
   "file_extension": ".py",
   "mimetype": "text/x-python",
   "name": "python",
   "nbconvert_exporter": "python",
   "pygments_lexer": "ipython3",
   "version": "3.8.3"
  }
 },
 "nbformat": 4,
 "nbformat_minor": 4
}
