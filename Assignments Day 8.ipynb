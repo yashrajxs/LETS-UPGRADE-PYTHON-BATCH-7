{
 "cells": [
  {
   "cell_type": "markdown",
   "metadata": {},
   "source": [
    "# Question 1"
   ]
  },
  {
   "cell_type": "code",
   "execution_count": 42,
   "metadata": {},
   "outputs": [],
   "source": [
    "def EnterName(inp):\n",
    "    def reverse():\n",
    "        centered_text = inp()\n",
    "        return centered_text[::-1]\n",
    "    return reverse\n",
    "\n",
    "@EnterName\n",
    "def reversename():\n",
    "    text = input('Type the name:')\n",
    "    return text"
   ]
  },
  {
   "cell_type": "code",
   "execution_count": 43,
   "metadata": {},
   "outputs": [
    {
     "name": "stdout",
     "output_type": "stream",
     "text": [
      "Type the name:Yashraj Sinha\n"
     ]
    },
    {
     "data": {
      "text/plain": [
       "'ahniS jarhsaY'"
      ]
     },
     "execution_count": 43,
     "metadata": {},
     "output_type": "execute_result"
    }
   ],
   "source": [
    "reversename()"
   ]
  },
  {
   "cell_type": "markdown",
   "metadata": {},
   "source": [
    "# Question 2"
   ]
  },
  {
   "cell_type": "code",
   "execution_count": 44,
   "metadata": {},
   "outputs": [
    {
     "name": "stdout",
     "output_type": "stream",
     "text": [
      "file is in read only mode\n"
     ]
    }
   ],
   "source": [
    "\n",
    "try:\n",
    "    f = open(\"newtextfile.txt\",\"r\")\n",
    "    f.write(\"efefe\")\n",
    "except:\n",
    "    print(\"file is in read only mode\")"
   ]
  },
  {
   "cell_type": "code",
   "execution_count": null,
   "metadata": {},
   "outputs": [],
   "source": []
  }
 ],
 "metadata": {
  "kernelspec": {
   "display_name": "Python 3",
   "language": "python",
   "name": "python3"
  },
  "language_info": {
   "codemirror_mode": {
    "name": "ipython",
    "version": 3
   },
   "file_extension": ".py",
   "mimetype": "text/x-python",
   "name": "python",
   "nbconvert_exporter": "python",
   "pygments_lexer": "ipython3",
   "version": "3.8.3"
  }
 },
 "nbformat": 4,
 "nbformat_minor": 4
}
