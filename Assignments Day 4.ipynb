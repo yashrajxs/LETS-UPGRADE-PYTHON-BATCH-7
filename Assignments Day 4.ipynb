{
 "cells": [
  {
   "cell_type": "code",
   "execution_count": 7,
   "metadata": {},
   "outputs": [
    {
     "name": "stdout",
     "output_type": "stream",
     "text": [
      "first armstrong is: 1741725\n"
     ]
    }
   ],
   "source": [
    "upper= 702648265\n",
    "lower = 1042000\n",
    "for num in range(lower,upper+1):\n",
    "    o=len(str(num))\n",
    "    sum=0\n",
    "    temp=num\n",
    "    while temp>0:\n",
    "        x=temp%10\n",
    "        sum+=x**o\n",
    "        temp//=10\n",
    "    if num==sum:\n",
    "        print(\"first armstrong is:\",num)\n",
    "        break"
   ]
  }
 ],
 "metadata": {
  "kernelspec": {
   "display_name": "Python 3",
   "language": "python",
   "name": "python3"
  },
  "language_info": {
   "codemirror_mode": {
    "name": "ipython",
    "version": 3
   },
   "file_extension": ".py",
   "mimetype": "text/x-python",
   "name": "python",
   "nbconvert_exporter": "python",
   "pygments_lexer": "ipython3",
   "version": "3.8.3"
  }
 },
 "nbformat": 4,
 "nbformat_minor": 4
}
